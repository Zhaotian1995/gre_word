{
 "cells": [
  {
   "cell_type": "code",
   "execution_count": null,
   "metadata": {},
   "outputs": [],
   "source": [
    "import tkinter as tk # GUI\n",
    "import pandas as pd \n",
    "from pandas import DataFrame\n",
    "import random as rd\n",
    "import re\n",
    "from PIL import ImageTk, Image\n",
    "df=pd.read_csv('gre_word.csv',header=None)\n",
    "data = df.values\n",
    "data=data.tolist()\n",
    "newdata=data\n",
    "wordlist=list()\n",
    "familarword=list()\n",
    "def next_Random():\n",
    "    global cur_word\n",
    "    global count\n",
    "    count += 1\n",
    "    cur_word = rd.choice(newdata)\n",
    "    ch = extract_Chinese(str(cur_word))\n",
    "    text.configure(text = ch)\n",
    "    counter.configure(text = str(count))\n",
    "    root.update_idletasks() \n",
    "# 显示题目类型\n",
    "def extract_Chinese(str):\n",
    "    chi = re.sub(\"[A-Za-z0-9\\!\\%\\[\\]\\,\\。]\", \"\", str) #看中文写英文\n",
    "    eng=re.findall('[a-z\\：]+', str) #同义词\n",
    "    aa=str.find(',')\n",
    "    bb=str[1:aa]          #3000 词，单词\n",
    "    return bb\n",
    "#[[a-z]+]\n",
    "# 显示答案\n",
    "def show_Answer():\n",
    "    text.configure(text = str(cur_word))\n",
    "    root.update_idletasks()\n",
    "\n",
    "def flag_word():\n",
    "    wordlist.append(str(cur_word))\n",
    "\n",
    "def familar_word():\n",
    "    familarword.append(cur_word)\n",
    "# 初始化GUI主体\n",
    "root = tk.Tk()    \n",
    "root.title('Gre背单词') \n",
    "\n",
    "# 计数器，计已经背了多少个单词\n",
    "count = 0\n",
    "counter = tk.Label(root,fg='red',anchor='se')\n",
    "counter.pack()\n",
    "counter['text'] = str(count)\n",
    "\n",
    "# 当前词汇\n",
    "cur_word = rd.choice(data)\n",
    "ch = extract_Chinese(str(cur_word))\n",
    "text  = tk.Label(root,text=ch,font=('Arial', 15))          #  创建组件\n",
    "text['width'] = 120\n",
    "text['height'] = 6\n",
    "\n",
    "# 两个按钮 下一个和显示答案\n",
    "B1 = tk.Button(root, text =\"next\", command = next_Random)\n",
    "B2 = tk.Button(root, text =\"answer\", command = show_Answer)\n",
    "B3 = tk.Button(root,text=\"flag\",command= flag_word)\n",
    "B4 = tk.Button(root,text=\"known\",command=familar_word)\n",
    "# canvas.create_window(100, 50, width=100, height=20,\n",
    "#                                        window=text)\n",
    "\n",
    "B1.pack()\n",
    "B2.pack()\n",
    "B3.pack()\n",
    "B4.pack()\n",
    "text.pack()                    # 将小部件放置到主窗口中\n",
    "root.mainloop()                 # 进入消息循环"
   ]
  },
  {
   "cell_type": "code",
   "execution_count": 331,
   "metadata": {},
   "outputs": [],
   "source": [
    "flagword=pd.DataFrame(data=wordlist)\n",
    "flagword.to_csv('flagword_day1.csv')"
   ]
  },
  {
   "cell_type": "code",
   "execution_count": 300,
   "metadata": {},
   "outputs": [],
   "source": [
    "my_set = set()\n",
    "for word in data:\n",
    "    my_set.add(str(word))"
   ]
  },
  {
   "cell_type": "code",
   "execution_count": 304,
   "metadata": {},
   "outputs": [],
   "source": [
    "familarset=set()\n",
    "for word in familarword:\n",
    "    familarset.add(str(word))"
   ]
  },
  {
   "cell_type": "code",
   "execution_count": 313,
   "metadata": {},
   "outputs": [],
   "source": [
    "newset=my_set-familarset\n",
    "new_wordlist=pd.DataFrame(data=newset)\n",
    "new_wordlist.to_csv('newwordlist.csv')"
   ]
  },
  {
   "cell_type": "code",
   "execution_count": null,
   "metadata": {},
   "outputs": [],
   "source": []
  }
 ],
 "metadata": {
  "kernelspec": {
   "display_name": "Python 3",
   "language": "python",
   "name": "python3"
  },
  "language_info": {
   "codemirror_mode": {
    "name": "ipython",
    "version": 3
   },
   "file_extension": ".py",
   "mimetype": "text/x-python",
   "name": "python",
   "nbconvert_exporter": "python",
   "pygments_lexer": "ipython3",
   "version": "3.8.3"
  }
 },
 "nbformat": 4,
 "nbformat_minor": 4
}
